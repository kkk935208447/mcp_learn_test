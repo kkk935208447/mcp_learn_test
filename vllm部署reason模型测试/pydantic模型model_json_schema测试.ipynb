{
 "cells": [
  {
   "cell_type": "code",
   "execution_count": 11,
   "id": "477addb9",
   "metadata": {},
   "outputs": [],
   "source": [
    "from pydantic import BaseModel, Field\n",
    "from typing import List, Optional\n",
    "from pprint import pprint"
   ]
  },
  {
   "cell_type": "code",
   "execution_count": 12,
   "id": "3b229c9b",
   "metadata": {},
   "outputs": [],
   "source": [
    "class Item(BaseModel):\n",
    "    name: str\n",
    "    description: Optional[str] = Field(None, description=\"The description of the item\")\n",
    "    money: float = Field(..., gt=0, description=\"The money must be greater than zero\")"
   ]
  },
  {
   "cell_type": "code",
   "execution_count": 13,
   "id": "9ce8470c",
   "metadata": {},
   "outputs": [
    {
     "data": {
      "text/plain": [
       "Item(name='John', description='New York', money=400.0)"
      ]
     },
     "execution_count": 13,
     "metadata": {},
     "output_type": "execute_result"
    }
   ],
   "source": [
    "it = Item(name=\"John\", money=400.0, age=30, description=\"New York\")\n",
    "it"
   ]
  },
  {
   "cell_type": "code",
   "execution_count": 17,
   "id": "1375654d",
   "metadata": {},
   "outputs": [
    {
     "name": "stdout",
     "output_type": "stream",
     "text": [
      "{'description': 'New York', 'money': 400.0, 'name': 'John'}\n"
     ]
    }
   ],
   "source": [
    "pprint(it.model_dump())"
   ]
  },
  {
   "cell_type": "code",
   "execution_count": 16,
   "id": "6f552ef3",
   "metadata": {},
   "outputs": [
    {
     "name": "stdout",
     "output_type": "stream",
     "text": [
      "{'properties': {'description': {'anyOf': [{'type': 'string'}, {'type': 'null'}],\n",
      "                                'default': None,\n",
      "                                'description': 'The description of the item',\n",
      "                                'title': 'Description'},\n",
      "                'money': {'description': 'The money must be greater than zero',\n",
      "                          'exclusiveMinimum': 0,\n",
      "                          'title': 'Money',\n",
      "                          'type': 'number'},\n",
      "                'name': {'title': 'Name', 'type': 'string'}},\n",
      " 'required': ['name', 'money'],\n",
      " 'title': 'Item',\n",
      " 'type': 'object'}\n"
     ]
    }
   ],
   "source": [
    "pprint(it.model_json_schema())"
   ]
  },
  {
   "cell_type": "code",
   "execution_count": null,
   "id": "bc3a4264",
   "metadata": {},
   "outputs": [],
   "source": []
  }
 ],
 "metadata": {
  "kernelspec": {
   "display_name": ".venv",
   "language": "python",
   "name": "python3"
  },
  "language_info": {
   "codemirror_mode": {
    "name": "ipython",
    "version": 3
   },
   "file_extension": ".py",
   "mimetype": "text/x-python",
   "name": "python",
   "nbconvert_exporter": "python",
   "pygments_lexer": "ipython3",
   "version": "3.11.12"
  }
 },
 "nbformat": 4,
 "nbformat_minor": 5
}
